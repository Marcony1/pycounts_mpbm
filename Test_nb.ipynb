{
 "cells": [
  {
   "cell_type": "code",
   "execution_count": 1,
   "metadata": {},
   "outputs": [
    {
     "data": {
      "text/plain": [
       "Counter({'is': 10,\n",
       "         'better': 8,\n",
       "         'than': 8,\n",
       "         'the': 6,\n",
       "         'to': 5,\n",
       "         'of': 3,\n",
       "         'although': 3,\n",
       "         'never': 3,\n",
       "         'be': 3,\n",
       "         'one': 3,\n",
       "         'idea': 3,\n",
       "         'complex': 2,\n",
       "         'special': 2,\n",
       "         'should': 2,\n",
       "         'unless': 2,\n",
       "         'obvious': 2,\n",
       "         'way': 2,\n",
       "         'do': 2,\n",
       "         'it': 2,\n",
       "         'may': 2,\n",
       "         'now': 2,\n",
       "         'if': 2,\n",
       "         'implementation': 2,\n",
       "         'explain': 2,\n",
       "         'a': 2,\n",
       "         'zen': 1,\n",
       "         'python': 1,\n",
       "         'by': 1,\n",
       "         'tim': 1,\n",
       "         'peters': 1,\n",
       "         'beautiful': 1,\n",
       "         'ugly': 1,\n",
       "         'explicit': 1,\n",
       "         'implicit': 1,\n",
       "         'simple': 1,\n",
       "         'complicated': 1,\n",
       "         'flat': 1,\n",
       "         'nested': 1,\n",
       "         'sparse': 1,\n",
       "         'dense': 1,\n",
       "         'readability': 1,\n",
       "         'counts': 1,\n",
       "         'cases': 1,\n",
       "         'arent': 1,\n",
       "         'enough': 1,\n",
       "         'break': 1,\n",
       "         'rules': 1,\n",
       "         'practicality': 1,\n",
       "         'beats': 1,\n",
       "         'purity': 1,\n",
       "         'errors': 1,\n",
       "         'pass': 1,\n",
       "         'silently': 1,\n",
       "         'explicitly': 1,\n",
       "         'silenced': 1,\n",
       "         'in': 1,\n",
       "         'face': 1,\n",
       "         'ambiguity': 1,\n",
       "         'refuse': 1,\n",
       "         'temptation': 1,\n",
       "         'guess': 1,\n",
       "         'there': 1,\n",
       "         'and': 1,\n",
       "         'preferably': 1,\n",
       "         'only': 1,\n",
       "         'that': 1,\n",
       "         'not': 1,\n",
       "         'at': 1,\n",
       "         'first': 1,\n",
       "         'youre': 1,\n",
       "         'dutch': 1,\n",
       "         'often': 1,\n",
       "         'right': 1,\n",
       "         'hard': 1,\n",
       "         'its': 1,\n",
       "         'bad': 1,\n",
       "         'easy': 1,\n",
       "         'good': 1,\n",
       "         'namespaces': 1,\n",
       "         'are': 1,\n",
       "         'honking': 1,\n",
       "         'great': 1,\n",
       "         'lets': 1,\n",
       "         'more': 1,\n",
       "         'those': 1})"
      ]
     },
     "execution_count": 1,
     "metadata": {},
     "output_type": "execute_result"
    }
   ],
   "source": [
    "from pycounts_mpbm.pycounts_mpbm import count_words\n",
    "count_words(\"zen.txt\")"
   ]
  },
  {
   "cell_type": "code",
   "execution_count": 1,
   "metadata": {},
   "outputs": [
    {
     "data": {
      "image/png": "[encoded data removed]",
      "text/plain": [
       "<Figure size 640x480 with 1 Axes>"
      ]
     },
     "metadata": {},
     "output_type": "display_data"
    }
   ],
   "source": [
    "from pycounts_mpbm.pycounts_mpbm import count_words\n",
    "from pycounts_mpbm.plotting import plot_words\n",
    "counts = count_words(\"zen.txt\")\n",
    "fig = plot_words(counts, 10)"
   ]
  }
 ],
 "metadata": {
  "kernelspec": {
   "display_name": "pycounts",
   "language": "python",
   "name": "python3"
  },
  "language_info": {
   "codemirror_mode": {
    "name": "ipython",
    "version": 3
   },
   "file_extension": ".py",
   "mimetype": "text/x-python",
   "name": "python",
   "nbconvert_exporter": "python",
   "pygments_lexer": "ipython3",
   "version": "3.9.18"
  }
 },
 "nbformat": 4,
 "nbformat_minor": 2
}
